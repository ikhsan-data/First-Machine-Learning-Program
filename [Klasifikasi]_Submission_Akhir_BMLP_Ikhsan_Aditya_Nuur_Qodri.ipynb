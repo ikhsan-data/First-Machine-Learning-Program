{
 "cells": [
  {
   "cell_type": "markdown",
   "metadata": {
    "id": "fKADPWcFKlj3"
   },
   "source": [
    "# **1. Import Library**"
   ]
  },
  {
   "cell_type": "markdown",
   "metadata": {
    "id": "LgA3ERnVn84N"
   },
   "source": [
    "Pada tahap ini, Anda perlu mengimpor beberapa pustaka (library) Python yang dibutuhkan untuk analisis data dan pembangunan model machine learning."
   ]
  },
  {
   "cell_type": "code",
   "execution_count": 61,
   "metadata": {
    "id": "BlmvjLY9M4Yj"
   },
   "outputs": [],
   "source": [
    "from sklearn.datasets import fetch_openml\n",
    "import pandas as pd\n",
    "from sklearn.model_selection import train_test_split\n",
    "from sklearn.preprocessing import LabelEncoder\n",
    "from sklearn.tree import DecisionTreeClassifier\n",
    "from sklearn.model_selection import GridSearchCV\n",
    "from sklearn.linear_model import LogisticRegression\n",
    "from sklearn.neighbors import KNeighborsClassifier\n",
    "from sklearn.ensemble import RandomForestClassifier\n",
    "from sklearn.model_selection import RandomizedSearchCV\n",
    "from sklearn.preprocessing import MultiLabelBinarizer\n",
    "from sklearn.metrics import accuracy_score, f1_score, precision_score, recall_score, confusion_matrix, ConfusionMatrixDisplay, classification_report\n",
    "from sklearn.model_selection import train_test_split\n",
    "from sklearn.svm import SVC\n",
    "from skopt import BayesSearchCV\n",
    "import numpy as np\n",
    "import matplotlib.pyplot as plt\n",
    "import seaborn as sns\n",
    "import warnings"
   ]
  },
  {
   "cell_type": "markdown",
   "metadata": {
    "id": "f3YIEnAFKrKL"
   },
   "source": [
    "# **2. Memuat Dataset dari Hasil Clustering**"
   ]
  },
  {
   "cell_type": "markdown",
   "metadata": {
    "id": "Ey3ItwTen_7E"
   },
   "source": [
    "Memuat dataset hasil clustering dari file CSV ke dalam variabel DataFrame."
   ]
  },
  {
   "cell_type": "code",
   "execution_count": 62,
   "metadata": {
    "id": "GHCGNTyrM5fS"
   },
   "outputs": [],
   "source": [
    "nama_file = 'https://raw.githubusercontent.com/ikhsan-data/First-Machine-Learning-Program/refs/heads/main/submission_machine_learning.csv'\n",
    "df_hasil_clustering = pd.read_csv(nama_file)"
   ]
  },
  {
   "cell_type": "markdown",
   "metadata": {
    "id": "KkPem5eWL2UP"
   },
   "source": [
    "# **3. Data Splitting**"
   ]
  },
  {
   "cell_type": "markdown",
   "metadata": {
    "id": "YYj1rl_JNI9Y"
   },
   "source": [
    "Tahap Data Splitting bertujuan untuk memisahkan dataset menjadi dua bagian: data latih (training set) dan data uji (test set)."
   ]
  },
  {
   "cell_type": "code",
   "execution_count": 63,
   "metadata": {
    "id": "OubAW-7ONKVj"
   },
   "outputs": [
    {
     "name": "stdout",
     "output_type": "stream",
     "text": [
      "Dimensi data latih (X_train): (372391, 14)\n",
      "Dimensi data uji (X_test): (41377, 14)\n"
     ]
    }
   ],
   "source": [
    "# Memisahkan fitur (X) dan target (y)\n",
    "X = df_hasil_clustering.drop(columns=['Family History of Depression'])  # Menghapus kolom target\n",
    "y = df_hasil_clustering['Family History of Depression']  # Menyimpan kolom target\n",
    "\n",
    "label_encoder = LabelEncoder()\n",
    "\n",
    "X_encoded = X.apply(label_encoder.fit_transform)\n",
    "y_encoded = label_encoder.fit_transform(y)\n",
    "\n",
    "# Membagi dataset menjadi training set dan testing set (50% training, 50% testing)\n",
    "X_train, X_test, y_train, y_test = train_test_split(X_encoded, y_encoded, test_size=0.10, random_state=42)\n",
    "\n",
    "# Menampilkan dimensi data latih dan data uji\n",
    "print(f'Dimensi data latih (X_train): {X_train.shape}')\n",
    "print(f'Dimensi data uji (X_test): {X_test.shape}')"
   ]
  },
  {
   "cell_type": "code",
   "execution_count": 64,
   "metadata": {},
   "outputs": [
    {
     "data": {
      "text/html": [
       "<div>\n",
       "<style scoped>\n",
       "    .dataframe tbody tr th:only-of-type {\n",
       "        vertical-align: middle;\n",
       "    }\n",
       "\n",
       "    .dataframe tbody tr th {\n",
       "        vertical-align: top;\n",
       "    }\n",
       "\n",
       "    .dataframe thead th {\n",
       "        text-align: right;\n",
       "    }\n",
       "</style>\n",
       "<table border=\"1\" class=\"dataframe\">\n",
       "  <thead>\n",
       "    <tr style=\"text-align: right;\">\n",
       "      <th></th>\n",
       "      <th>Age</th>\n",
       "      <th>Marital Status</th>\n",
       "      <th>Education Level</th>\n",
       "      <th>Number of Children</th>\n",
       "      <th>Smoking Status</th>\n",
       "      <th>Physical Activity Level</th>\n",
       "      <th>Employment Status</th>\n",
       "      <th>Income</th>\n",
       "      <th>Alcohol Consumption</th>\n",
       "      <th>Dietary Habits</th>\n",
       "      <th>Sleep Patterns</th>\n",
       "      <th>History of Mental Illness</th>\n",
       "      <th>History of Substance Abuse</th>\n",
       "      <th>Chronic Medical Conditions</th>\n",
       "    </tr>\n",
       "  </thead>\n",
       "  <tbody>\n",
       "    <tr>\n",
       "      <th>133081</th>\n",
       "      <td>10</td>\n",
       "      <td>0</td>\n",
       "      <td>2</td>\n",
       "      <td>0</td>\n",
       "      <td>1</td>\n",
       "      <td>1</td>\n",
       "      <td>0</td>\n",
       "      <td>49772</td>\n",
       "      <td>2</td>\n",
       "      <td>2</td>\n",
       "      <td>2</td>\n",
       "      <td>1</td>\n",
       "      <td>1</td>\n",
       "      <td>1</td>\n",
       "    </tr>\n",
       "    <tr>\n",
       "      <th>203131</th>\n",
       "      <td>55</td>\n",
       "      <td>0</td>\n",
       "      <td>2</td>\n",
       "      <td>0</td>\n",
       "      <td>1</td>\n",
       "      <td>2</td>\n",
       "      <td>1</td>\n",
       "      <td>204517</td>\n",
       "      <td>0</td>\n",
       "      <td>2</td>\n",
       "      <td>2</td>\n",
       "      <td>1</td>\n",
       "      <td>1</td>\n",
       "      <td>0</td>\n",
       "    </tr>\n",
       "    <tr>\n",
       "      <th>301330</th>\n",
       "      <td>48</td>\n",
       "      <td>0</td>\n",
       "      <td>2</td>\n",
       "      <td>3</td>\n",
       "      <td>1</td>\n",
       "      <td>2</td>\n",
       "      <td>0</td>\n",
       "      <td>137482</td>\n",
       "      <td>2</td>\n",
       "      <td>1</td>\n",
       "      <td>1</td>\n",
       "      <td>0</td>\n",
       "      <td>0</td>\n",
       "      <td>1</td>\n",
       "    </tr>\n",
       "    <tr>\n",
       "      <th>214306</th>\n",
       "      <td>33</td>\n",
       "      <td>0</td>\n",
       "      <td>1</td>\n",
       "      <td>0</td>\n",
       "      <td>2</td>\n",
       "      <td>0</td>\n",
       "      <td>1</td>\n",
       "      <td>351551</td>\n",
       "      <td>2</td>\n",
       "      <td>0</td>\n",
       "      <td>2</td>\n",
       "      <td>0</td>\n",
       "      <td>1</td>\n",
       "      <td>0</td>\n",
       "    </tr>\n",
       "    <tr>\n",
       "      <th>55621</th>\n",
       "      <td>58</td>\n",
       "      <td>0</td>\n",
       "      <td>3</td>\n",
       "      <td>3</td>\n",
       "      <td>1</td>\n",
       "      <td>1</td>\n",
       "      <td>0</td>\n",
       "      <td>141436</td>\n",
       "      <td>0</td>\n",
       "      <td>2</td>\n",
       "      <td>2</td>\n",
       "      <td>1</td>\n",
       "      <td>0</td>\n",
       "      <td>1</td>\n",
       "    </tr>\n",
       "    <tr>\n",
       "      <th>...</th>\n",
       "      <td>...</td>\n",
       "      <td>...</td>\n",
       "      <td>...</td>\n",
       "      <td>...</td>\n",
       "      <td>...</td>\n",
       "      <td>...</td>\n",
       "      <td>...</td>\n",
       "      <td>...</td>\n",
       "      <td>...</td>\n",
       "      <td>...</td>\n",
       "      <td>...</td>\n",
       "      <td>...</td>\n",
       "      <td>...</td>\n",
       "      <td>...</td>\n",
       "    </tr>\n",
       "    <tr>\n",
       "      <th>259178</th>\n",
       "      <td>9</td>\n",
       "      <td>0</td>\n",
       "      <td>4</td>\n",
       "      <td>0</td>\n",
       "      <td>0</td>\n",
       "      <td>0</td>\n",
       "      <td>1</td>\n",
       "      <td>356613</td>\n",
       "      <td>0</td>\n",
       "      <td>0</td>\n",
       "      <td>1</td>\n",
       "      <td>1</td>\n",
       "      <td>1</td>\n",
       "      <td>0</td>\n",
       "    </tr>\n",
       "    <tr>\n",
       "      <th>365838</th>\n",
       "      <td>5</td>\n",
       "      <td>0</td>\n",
       "      <td>4</td>\n",
       "      <td>2</td>\n",
       "      <td>0</td>\n",
       "      <td>2</td>\n",
       "      <td>0</td>\n",
       "      <td>54816</td>\n",
       "      <td>1</td>\n",
       "      <td>2</td>\n",
       "      <td>0</td>\n",
       "      <td>0</td>\n",
       "      <td>0</td>\n",
       "      <td>0</td>\n",
       "    </tr>\n",
       "    <tr>\n",
       "      <th>131932</th>\n",
       "      <td>44</td>\n",
       "      <td>0</td>\n",
       "      <td>1</td>\n",
       "      <td>1</td>\n",
       "      <td>2</td>\n",
       "      <td>2</td>\n",
       "      <td>0</td>\n",
       "      <td>42696</td>\n",
       "      <td>2</td>\n",
       "      <td>2</td>\n",
       "      <td>2</td>\n",
       "      <td>0</td>\n",
       "      <td>1</td>\n",
       "      <td>1</td>\n",
       "    </tr>\n",
       "    <tr>\n",
       "      <th>146867</th>\n",
       "      <td>10</td>\n",
       "      <td>0</td>\n",
       "      <td>3</td>\n",
       "      <td>0</td>\n",
       "      <td>1</td>\n",
       "      <td>1</td>\n",
       "      <td>1</td>\n",
       "      <td>156737</td>\n",
       "      <td>2</td>\n",
       "      <td>2</td>\n",
       "      <td>0</td>\n",
       "      <td>0</td>\n",
       "      <td>1</td>\n",
       "      <td>1</td>\n",
       "    </tr>\n",
       "    <tr>\n",
       "      <th>121958</th>\n",
       "      <td>33</td>\n",
       "      <td>0</td>\n",
       "      <td>4</td>\n",
       "      <td>1</td>\n",
       "      <td>2</td>\n",
       "      <td>1</td>\n",
       "      <td>1</td>\n",
       "      <td>305050</td>\n",
       "      <td>1</td>\n",
       "      <td>0</td>\n",
       "      <td>2</td>\n",
       "      <td>1</td>\n",
       "      <td>0</td>\n",
       "      <td>1</td>\n",
       "    </tr>\n",
       "  </tbody>\n",
       "</table>\n",
       "<p>372391 rows × 14 columns</p>\n",
       "</div>"
      ],
      "text/plain": [
       "        Age  Marital Status  Education Level  Number of Children  \\\n",
       "133081   10               0                2                   0   \n",
       "203131   55               0                2                   0   \n",
       "301330   48               0                2                   3   \n",
       "214306   33               0                1                   0   \n",
       "55621    58               0                3                   3   \n",
       "...     ...             ...              ...                 ...   \n",
       "259178    9               0                4                   0   \n",
       "365838    5               0                4                   2   \n",
       "131932   44               0                1                   1   \n",
       "146867   10               0                3                   0   \n",
       "121958   33               0                4                   1   \n",
       "\n",
       "        Smoking Status  Physical Activity Level  Employment Status  Income  \\\n",
       "133081               1                        1                  0   49772   \n",
       "203131               1                        2                  1  204517   \n",
       "301330               1                        2                  0  137482   \n",
       "214306               2                        0                  1  351551   \n",
       "55621                1                        1                  0  141436   \n",
       "...                ...                      ...                ...     ...   \n",
       "259178               0                        0                  1  356613   \n",
       "365838               0                        2                  0   54816   \n",
       "131932               2                        2                  0   42696   \n",
       "146867               1                        1                  1  156737   \n",
       "121958               2                        1                  1  305050   \n",
       "\n",
       "        Alcohol Consumption  Dietary Habits  Sleep Patterns  \\\n",
       "133081                    2               2               2   \n",
       "203131                    0               2               2   \n",
       "301330                    2               1               1   \n",
       "214306                    2               0               2   \n",
       "55621                     0               2               2   \n",
       "...                     ...             ...             ...   \n",
       "259178                    0               0               1   \n",
       "365838                    1               2               0   \n",
       "131932                    2               2               2   \n",
       "146867                    2               2               0   \n",
       "121958                    1               0               2   \n",
       "\n",
       "        History of Mental Illness  History of Substance Abuse  \\\n",
       "133081                          1                           1   \n",
       "203131                          1                           1   \n",
       "301330                          0                           0   \n",
       "214306                          0                           1   \n",
       "55621                           1                           0   \n",
       "...                           ...                         ...   \n",
       "259178                          1                           1   \n",
       "365838                          0                           0   \n",
       "131932                          0                           1   \n",
       "146867                          0                           1   \n",
       "121958                          1                           0   \n",
       "\n",
       "        Chronic Medical Conditions  \n",
       "133081                           1  \n",
       "203131                           0  \n",
       "301330                           1  \n",
       "214306                           0  \n",
       "55621                            1  \n",
       "...                            ...  \n",
       "259178                           0  \n",
       "365838                           0  \n",
       "131932                           1  \n",
       "146867                           1  \n",
       "121958                           1  \n",
       "\n",
       "[372391 rows x 14 columns]"
      ]
     },
     "execution_count": 64,
     "metadata": {},
     "output_type": "execute_result"
    }
   ],
   "source": [
    "X_train"
   ]
  },
  {
   "cell_type": "markdown",
   "metadata": {
    "id": "IVPbB03CMhTT"
   },
   "source": [
    "# **4. Membangun Model Klasifikasi**\n"
   ]
  },
  {
   "cell_type": "markdown",
   "metadata": {
    "id": "Ned1pL9zMmBK"
   },
   "source": [
    "## **a. Membangun Model Klasifikasi**"
   ]
  },
  {
   "cell_type": "markdown",
   "metadata": {
    "id": "WAWzPOE4Nkti"
   },
   "source": [
    "Setelah memilih algoritma klasifikasi yang sesuai, langkah selanjutnya adalah melatih model menggunakan data latih.\n",
    "\n",
    "Berikut adalah rekomendasi tahapannya.\n",
    "1. Pilih algoritma klasifikasi yang sesuai, seperti Logistic Regression, Decision Tree, Random Forest, atau K-Nearest Neighbors (KNN).\n",
    "2. Latih model menggunakan data latih."
   ]
  },
  {
   "cell_type": "code",
   "execution_count": 65,
   "metadata": {},
   "outputs": [
    {
     "name": "stdout",
     "output_type": "stream",
     "text": [
      "Initial accuracy on test set (without tuning): 0.69\n"
     ]
    }
   ],
   "source": [
    "# Inisialisasi model Random Forest tanpa hyperparameter tuning\n",
    "rf = RandomForestClassifier(random_state=42)\n",
    "rf.fit(X_train, y_train)\n",
    " \n",
    "# Evaluasi awal model tanpa tuning\n",
    "initial_score = rf.score(X_test, y_test)\n",
    "print(f\"Initial accuracy on test set (without tuning): {initial_score:.2f}\")"
   ]
  },
  {
   "cell_type": "code",
   "execution_count": 66,
   "metadata": {},
   "outputs": [
    {
     "name": "stdout",
     "output_type": "stream",
     "text": [
      "Initial accuracy on test set (without tuning): 0.73\n"
     ]
    }
   ],
   "source": [
    "# Inisialisasi model Logistic Regression tanpa hyperparameter tuning\n",
    "lr = LogisticRegression(random_state=42, max_iter=10000)\n",
    "lr.fit(X_train, y_train)\n",
    "\n",
    "# Evaluasi awal model tanpa tuning\n",
    "initial_score = lr.score(X_test, y_test)\n",
    "print(f\"Initial accuracy on test set (without tuning): {initial_score:.2f}\")"
   ]
  },
  {
   "cell_type": "markdown",
   "metadata": {
    "id": "ergzChZFEL-O"
   },
   "source": [
    "## **b. Evaluasi Model Klasifikasi**"
   ]
  },
  {
   "cell_type": "markdown",
   "metadata": {
    "id": "zOm68u-7NpLT"
   },
   "source": [
    "Berikut adalah **rekomendasi** tahapannya.\n",
    "1. Lakukan prediksi menggunakan data uji.\n",
    "2. Hitung metrik evaluasi seperti Accuracy dan F1-Score (Opsional: Precision dan Recall).\n",
    "3. Buat confusion matrix untuk melihat detail prediksi benar dan salah."
   ]
  },
  {
   "cell_type": "code",
   "execution_count": 67,
   "metadata": {
    "id": "tMq4QAssNLip"
   },
   "outputs": [
    {
     "name": "stdout",
     "output_type": "stream",
     "text": [
      "Accuracy on test set: 0.69\n",
      "F1-Score (weighted) on test set: 0.64\n",
      "Precision (weighted) on test set: 0.63\n",
      "Recall (weighted) on test set: 0.69\n"
     ]
    },
    {
     "data": {
      "image/png": "[encoded data removed]",
      "text/plain": [
       "<Figure size 800x600 with 2 Axes>"
      ]
     },
     "metadata": {},
     "output_type": "display_data"
    }
   ],
   "source": [
    "#Random Forest\n",
    "# 1. Lakukan prediksi menggunakan data uji\n",
    "y_pred = rf.predict(X_test)\n",
    "\n",
    "# 2. Hitung metrik evaluasi\n",
    "accuracy = accuracy_score(y_test, y_pred)\n",
    "f1 = f1_score(y_test, y_pred, average='weighted')  # Rata-rata tertimbang F1-Score\n",
    "precision = precision_score(y_test, y_pred, average='weighted')  # Precision rata-rata tertimbang\n",
    "recall = recall_score(y_test, y_pred, average='weighted')  # Recall rata-rata tertimbang\n",
    "\n",
    "# Tampilkan hasil metrik evaluasi\n",
    "print(f\"Accuracy on test set: {accuracy:.2f}\")\n",
    "print(f\"F1-Score (weighted) on test set: {f1:.2f}\")\n",
    "print(f\"Precision (weighted) on test set: {precision:.2f}\")\n",
    "print(f\"Recall (weighted) on test set: {recall:.2f}\")\n",
    "\n",
    "# 3. Buat confusion matrix\n",
    "cm = confusion_matrix(y_test, y_pred)\n",
    "\n",
    "# Visualisasi confusion matrix menggunakan heatmap\n",
    "plt.figure(figsize=(8, 6))\n",
    "sns.heatmap(cm, annot=True, fmt=\"d\", cmap=\"Blues\", xticklabels=['Class 0', 'Class 1'], yticklabels=['Class 0', 'Class 1'])\n",
    "plt.title(\"Confusion Matrix\")\n",
    "plt.xlabel(\"Predicted Label\")\n",
    "plt.ylabel(\"True Label\")\n",
    "plt.show()"
   ]
  },
  {
   "cell_type": "code",
   "execution_count": 68,
   "metadata": {},
   "outputs": [
    {
     "name": "stdout",
     "output_type": "stream",
     "text": [
      "Accuracy on test set: 0.73\n",
      "F1-Score (weighted) on test set: 0.61\n",
      "Precision (weighted) on test set: 0.80\n",
      "Recall (weighted) on test set: 0.73\n"
     ]
    },
    {
     "data": {
      "image/png": "[encoded data removed]",
      "text/plain": [
       "<Figure size 800x600 with 2 Axes>"
      ]
     },
     "metadata": {},
     "output_type": "display_data"
    }
   ],
   "source": [
    "#Logistic Regression\n",
    "# 1. Lakukan prediksi menggunakan data uji\n",
    "y_pred = lr.predict(X_test)\n",
    "\n",
    "# 2. Hitung metrik evaluasi\n",
    "accuracy = accuracy_score(y_test, y_pred)\n",
    "f1 = f1_score(y_test, y_pred, average='weighted', zero_division=1)  # Set zero_division to 1\n",
    "precision = precision_score(y_test, y_pred, average='weighted', zero_division=1)  # Set zero_division to 1\n",
    "recall = recall_score(y_test, y_pred, average='weighted', zero_division=1)  # Set zero_division to 1\n",
    "\n",
    "# Tampilkan hasil metrik evaluasi\n",
    "print(f\"Accuracy on test set: {accuracy:.2f}\")\n",
    "print(f\"F1-Score (weighted) on test set: {f1:.2f}\")\n",
    "print(f\"Precision (weighted) on test set: {precision:.2f}\")\n",
    "print(f\"Recall (weighted) on test set: {recall:.2f}\")\n",
    "\n",
    "# 3. Buat confusion matrix\n",
    "cm = confusion_matrix(y_test, y_pred)\n",
    "\n",
    "# Visualisasi confusion matrix menggunakan heatmap\n",
    "plt.figure(figsize=(8, 6))\n",
    "sns.heatmap(cm, annot=True, fmt=\"d\", cmap=\"Blues\", xticklabels=['Class 0', 'Class 1'], yticklabels=['Class 0', 'Class 1'])\n",
    "plt.title(\"Confusion Matrix\")\n",
    "plt.xlabel(\"Predicted Label\")\n",
    "plt.ylabel(\"True Label\")\n",
    "plt.show()"
   ]
  },
  {
   "cell_type": "markdown",
   "metadata": {
    "id": "ph9yIYDXEPuB"
   },
   "source": [
    "## **c. Tuning Model Klasifikasi (Optional)**"
   ]
  },
  {
   "cell_type": "markdown",
   "metadata": {
    "id": "-Bikx3LINv5e"
   },
   "source": [
    "Gunakan GridSearchCV, RandomizedSearchCV, atau metode lainnya untuk mencari kombinasi hyperparameter terbaik"
   ]
  },
  {
   "cell_type": "code",
   "execution_count": null,
   "metadata": {
    "id": "winbFzb8NL95",
    "scrolled": true
   },
   "outputs": [],
   "source": [
    "# Definisikan parameter grid untuk Grid Search\n",
    "param_grid = {\n",
    "    'n_estimators': (100),\n",
    "    'max_depth': (10),\n",
    "    'max_depth': 80,\n",
    "    'min_samples_split': (12),\n",
    "    'min_samples_leaf': 5,\n",
    "    'bootstrap': True\n",
    "}\n",
    "\n",
    "# Inisialisasi GridSearchCV\n",
    "grid_search = GridSearchCV(estimator=rf, param_grid=param_grid, cv=3, n_jobs=-1, verbose=2)\n",
    "grid_search.fit(X_train, y_train)\n",
    " \n",
    "# Output hasil terbaik\n",
    "print(f\"Best parameters (Grid Search): {grid_search.best_params_}\")\n",
    "best_rf_grid = grid_search.best_estimator_\n",
    " \n",
    "# Evaluasi performa model pada test set\n",
    "grid_search_score = best_rf_grid.score(X_test, y_test)\n",
    "print(f\"Accuracy after Grid Search: {grid_search_score:.2f}\")"
   ]
  },
  {
   "cell_type": "code",
   "execution_count": null,
   "metadata": {},
   "outputs": [],
   "source": [
    "# Definisikan ruang pencarian untuk Random Search\n",
    "param_dist = {\n",
    "    'n_estimators': range(10, 101),\n",
    "    'criterion': ['gini', 'entropy'],\n",
    "    'max_depth': range(2, 51),\n",
    "    'min_samples_split': range(2, 11),\n",
    "    'min_samples_leaf': range(1, 11),\n",
    "    'max_features': ['sqrt', 'log2', None],\n",
    "    'bootstrap': [True, False]\n",
    "}\n",
    " \n",
    "# Inisialisasi RandomizedSearchCV\n",
    "random_search = RandomizedSearchCV(estimator=rf, param_distributions=param_dist, n_iter=100, cv=3, n_jobs=-1, verbose=2)\n",
    "random_search.fit(X_train, y_train)\n",
    " \n",
    "# Output hasil terbaik\n",
    "print(f\"Best parameters (Random Search): {random_search.best_params_}\")\n",
    "best_rf_random = random_search.best_estimator_\n",
    " \n",
    "# Evaluasi performa model pada test set\n",
    "random_search_score = best_rf_random.score(X_test, y_test)\n",
    "print(f\"Accuracy after Random Search: {random_search_score:.2f}\")"
   ]
  },
  {
   "cell_type": "code",
   "execution_count": null,
   "metadata": {},
   "outputs": [],
   "source": [
    "# Definisikan ruang pencarian untuk Bayesian Optimization\n",
    "param_space = {\n",
    "    'n_estimators': (100, 500),\n",
    "    'max_depth': (10, 50),\n",
    "    'min_samples_split': (2, 10),\n",
    "    'criterion': ['gini', 'entropy']\n",
    "}\n",
    " \n",
    "# Inisialisasi BayesSearchCV\n",
    "bayes_search = BayesSearchCV(estimator=rf, search_spaces=param_space, n_iter=32, cv=3, n_jobs=-1, verbose=2, random_state=42)\n",
    "bayes_search.fit(X_train, y_train)\n",
    " \n",
    "# Output hasil terbaik\n",
    "print(f\"Best parameters (Bayesian Optimization): {bayes_search.best_params_}\")\n",
    "best_rf_bayes = bayes_search.best_estimator_\n",
    " \n",
    "# Evaluasi performa model pada test set\n",
    "bayes_search_score = best_rf_bayes.score(X_test, y_test)\n",
    "print(f\"Accuracy after Bayesian Optimization: {bayes_search_score:.2f}\")"
   ]
  },
  {
   "cell_type": "markdown",
   "metadata": {
    "id": "hE7pqlEPEYzI"
   },
   "source": [
    "## **d. Evaluasi Model Klasifikasi setelah Tuning (Optional)**"
   ]
  },
  {
   "cell_type": "markdown",
   "metadata": {
    "id": "feaPESoeN0zz"
   },
   "source": [
    "Berikut adalah rekomendasi tahapannya.\n",
    "1. Gunakan model dengan hyperparameter terbaik.\n",
    "2. Hitung ulang metrik evaluasi untuk melihat apakah ada peningkatan performa."
   ]
  },
  {
   "cell_type": "code",
   "execution_count": 256,
   "metadata": {},
   "outputs": [
    {
     "name": "stdout",
     "output_type": "stream",
     "text": [
      "\n",
      "Performance Metrics (Grid Search):\n",
      "Accuracy: 0.43\n",
      "F1-Score: 0.43\n",
      "Precision: 0.43\n",
      "Recall: 0.43\n"
     ]
    }
   ],
   "source": [
    "# Evaluasi ulang model terbaik dari Grid Search\n",
    "y_pred_grid = best_rf_grid.predict(X_test)\n",
    "accuracy_grid = accuracy_score(y_test, y_pred_grid)\n",
    "f1_grid = f1_score(y_test, y_pred_grid, average='weighted')\n",
    "precision_grid = precision_score(y_test, y_pred_grid, average='weighted')\n",
    "recall_grid = recall_score(y_test, y_pred_grid, average='weighted')\n",
    "\n",
    "print(\"\\nPerformance Metrics (Grid Search):\")\n",
    "print(f\"Accuracy: {accuracy_grid:.2f}\")\n",
    "print(f\"F1-Score: {f1_grid:.2f}\")\n",
    "print(f\"Precision: {precision_grid:.2f}\")\n",
    "print(f\"Recall: {recall_grid:.2f}\")"
   ]
  },
  {
   "cell_type": "code",
   "execution_count": 257,
   "metadata": {},
   "outputs": [
    {
     "name": "stdout",
     "output_type": "stream",
     "text": [
      "\n",
      "Performance Metrics (Random Search):\n",
      "Accuracy: 0.42\n",
      "F1-Score: 0.42\n",
      "Precision: 0.42\n",
      "Recall: 0.42\n"
     ]
    }
   ],
   "source": [
    "# Evaluasi ulang model terbaik dari Random Search\n",
    "y_pred_random = best_rf_random.predict(X_test)\n",
    "accuracy_random = accuracy_score(y_test, y_pred_random)\n",
    "f1_random = f1_score(y_test, y_pred_random, average='weighted')\n",
    "precision_random = precision_score(y_test, y_pred_random, average='weighted')\n",
    "recall_random = recall_score(y_test, y_pred_random, average='weighted')\n",
    "\n",
    "print(\"\\nPerformance Metrics (Random Search):\")\n",
    "print(f\"Accuracy: {accuracy_random:.2f}\")\n",
    "print(f\"F1-Score: {f1_random:.2f}\")\n",
    "print(f\"Precision: {precision_random:.2f}\")\n",
    "print(f\"Recall: {recall_random:.2f}\")"
   ]
  },
  {
   "cell_type": "code",
   "execution_count": 258,
   "metadata": {},
   "outputs": [
    {
     "name": "stdout",
     "output_type": "stream",
     "text": [
      "\n",
      "Performance Metrics (Bayesian Optimization):\n",
      "Accuracy: 0.42\n",
      "F1-Score: 0.42\n",
      "Precision: 0.42\n",
      "Recall: 0.42\n"
     ]
    }
   ],
   "source": [
    "# Evaluasi ulang model terbaik dari Bayesian Optimization\n",
    "y_pred_bayes = best_rf_bayes.predict(X_test)\n",
    "accuracy_bayes = accuracy_score(y_test, y_pred_bayes)\n",
    "f1_bayes = f1_score(y_test, y_pred_bayes, average='weighted')\n",
    "precision_bayes = precision_score(y_test, y_pred_bayes, average='weighted')\n",
    "recall_bayes = recall_score(y_test, y_pred_bayes, average='weighted')\n",
    "\n",
    "print(\"\\nPerformance Metrics (Bayesian Optimization):\")\n",
    "print(f\"Accuracy: {accuracy_bayes:.2f}\")\n",
    "print(f\"F1-Score: {f1_bayes:.2f}\")\n",
    "print(f\"Precision: {precision_bayes:.2f}\")\n",
    "print(f\"Recall: {recall_bayes:.2f}\")"
   ]
  },
  {
   "cell_type": "code",
   "execution_count": 259,
   "metadata": {},
   "outputs": [
    {
     "data": {
      "image/png": "[encoded data removed]",
      "text/plain": [
       "<Figure size 800x600 with 2 Axes>"
      ]
     },
     "metadata": {},
     "output_type": "display_data"
    },
    {
     "name": "stdout",
     "output_type": "stream",
     "text": [
      "\n",
      "Classification Report (Bayesian Optimization):\n",
      "              precision    recall  f1-score   support\n",
      "\n",
      "    Abnormal       0.42      0.42      0.42      5643\n",
      "Inconclusive       0.41      0.43      0.42      5418\n",
      "      Normal       0.43      0.41      0.42      5589\n",
      "\n",
      "    accuracy                           0.42     16650\n",
      "   macro avg       0.42      0.42      0.42     16650\n",
      "weighted avg       0.42      0.42      0.42     16650\n",
      "\n"
     ]
    }
   ],
   "source": [
    "# Visualisasi Confusion Matrix untuk model terbaik (misalnya, dari Bayesian Optimization)\n",
    "conf_matrix_bayes = confusion_matrix(y_test, y_pred_bayes)\n",
    "\n",
    "plt.figure(figsize=(8, 6))\n",
    "sns.heatmap(conf_matrix_bayes, annot=True, fmt='d', cmap='Blues', xticklabels=label_encoder.classes_, yticklabels=label_encoder.classes_)\n",
    "plt.xlabel('Predicted')\n",
    "plt.ylabel('Actual')\n",
    "plt.title('Confusion Matrix (Bayesian Optimization)')\n",
    "plt.show()\n",
    "\n",
    "# Classification Report untuk model terbaik\n",
    "print(\"\\nClassification Report (Bayesian Optimization):\")\n",
    "print(classification_report(y_test, y_pred_bayes, target_names=label_encoder.classes_, zero_division=0))"
   ]
  },
  {
   "cell_type": "markdown",
   "metadata": {
    "id": "ZRsOdm4uEgAW"
   },
   "source": [
    "## **e. Analisis Hasil Evaluasi Model Klasifikasi**"
   ]
  },
  {
   "cell_type": "markdown",
   "metadata": {
    "id": "Hm3BhSi6N4_l"
   },
   "source": [
    "Berikut adalah **rekomendasi** tahapannya.\n",
    "1. Bandingkan hasil evaluasi sebelum dan setelah tuning (jika dilakukan).\n",
    "   - Evaluasi Awal (Tanpa Tuning)\n",
    "     - Accuracy: 0.42\n",
    "     - Metrik evaluasi lainnya belum dihitung pada tahap ini.\n",
    "   - Setelah Tuning\n",
    "     - Grid Search Accuracy: 0.43 (peningkatan kecil dari model awal).\n",
    "     - Random Search Accuracy: 0.42 (tidak ada peningkatan).\n",
    "     - Bayesian Optimization Accuracy: 0.42 (tidak ada peningkatan).\n",
    "Metrik tambahan untuk semua metode tuning menunjukkan nilai yang sama di sekitar 0.42–0.43 (Accuracy, F1-Score, Precision, Recall).\n",
    "\n",
    "2. Identifikasi kelemahan model, seperti:\n",
    "  - Precision atau Recall rendah untuk kelas tertentu.\n",
    "    - Semua metode menunjukkan metrik yang serupa untuk setiap kelas, sehingga kemungkinan besar model gagal menangkap pola signifikan dari data.\n",
    "    - Confusion Matrix dapat menunjukkan kelas tertentu yang sering salah diklasifikasikan.\n",
    "  - Apakah model mengalami overfitting atau underfitting?\n",
    "    - Performa model pada data uji hanya sedikit meningkat setelah tuning. Hal ini menunjukkan bahwa model kemungkinan mengalami underfitting.\n",
    "    - Tuning hyperparameter tidak memberikan peningkatan signifikan, sehingga kompleksitas model saat ini mungkin tidak cukup untuk menangkap informasi dari data.\n",
    "\n",
    "3. Berikan rekomendasi tindakan lanjutan, seperti mengumpulkan data tambahan atau mencoba algoritma lain jika hasil belum memuaskan.\n",
    "   - Periksa distribusi kelas pada target. Ketidakseimbangan kelas dapat menyebabkan model hanya mempelajari kelas mayoritas\n",
    "   - Lakukan analisis tambahan terhadap fitur yang digunakan. Mungkin ada korelasi rendah antara fitur dengan target.\n",
    "   - Eksperimen dengan Algoritma Lain\n",
    "\n",
    "\n",
    "\n",
    "\n"
   ]
  },
  {
   "cell_type": "code",
   "execution_count": null,
   "metadata": {},
   "outputs": [],
   "source": []
  }
 ],
 "metadata": {
  "colab": {
   "provenance": []
  },
  "kernelspec": {
   "display_name": "Python 3 (ipykernel)",
   "language": "python",
   "name": "python3"
  },
  "language_info": {
   "codemirror_mode": {
    "name": "ipython",
    "version": 3
   },
   "file_extension": ".py",
   "mimetype": "text/x-python",
   "name": "python",
   "nbconvert_exporter": "python",
   "pygments_lexer": "ipython3",
   "version": "3.11.9"
  }
 },
 "nbformat": 4,
 "nbformat_minor": 4
}
