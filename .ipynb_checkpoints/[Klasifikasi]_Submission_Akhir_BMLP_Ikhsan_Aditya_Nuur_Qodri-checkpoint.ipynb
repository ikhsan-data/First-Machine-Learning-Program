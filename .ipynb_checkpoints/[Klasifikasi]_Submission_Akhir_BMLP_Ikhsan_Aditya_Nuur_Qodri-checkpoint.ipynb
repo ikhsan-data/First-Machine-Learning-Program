{
 "cells": [
  {
   "cell_type": "markdown",
   "metadata": {
    "id": "fKADPWcFKlj3"
   },
   "source": [
    "# **1. Import Library**"
   ]
  },
  {
   "cell_type": "markdown",
   "metadata": {
    "id": "LgA3ERnVn84N"
   },
   "source": [
    "Pada tahap ini, Anda perlu mengimpor beberapa pustaka (library) Python yang dibutuhkan untuk analisis data dan pembangunan model machine learning."
   ]
  },
  {
   "cell_type": "code",
   "execution_count": 14,
   "metadata": {
    "id": "BlmvjLY9M4Yj"
   },
   "outputs": [],
   "source": [
    "from sklearn.datasets import fetch_openml\n",
    "import pandas as pd\n",
    "from sklearn.model_selection import train_test_split\n",
    "from sklearn.preprocessing import LabelEncoder\n",
    "from sklearn.tree import DecisionTreeClassifier\n",
    "from sklearn.model_selection import GridSearchCV\n",
    "from sklearn.ensemble import RandomForestClassifier\n",
    "from sklearn.model_selection import RandomizedSearchCV\n",
    "from sklearn.preprocessing import MultiLabelBinarizer\n",
    "from sklearn.metrics import accuracy_score, f1_score, precision_score, recall_score, confusion_matrix, ConfusionMatrixDisplay, classification_report\n",
    "from sklearn.metrics import accuracy_score\n",
    "from skopt import BayesSearchCV\n",
    "import numpy as np\n",
    "import matplotlib.pyplot as plt\n",
    "import seaborn as sns"
   ]
  },
  {
   "cell_type": "markdown",
   "metadata": {
    "id": "f3YIEnAFKrKL"
   },
   "source": [
    "# **2. Memuat Dataset dari Hasil Clustering**"
   ]
  },
  {
   "cell_type": "markdown",
   "metadata": {
    "id": "Ey3ItwTen_7E"
   },
   "source": [
    "Memuat dataset hasil clustering dari file CSV ke dalam variabel DataFrame."
   ]
  },
  {
   "cell_type": "code",
   "execution_count": 15,
   "metadata": {
    "id": "GHCGNTyrM5fS"
   },
   "outputs": [],
   "source": [
    "nama_file = 'submission_machine_learning.csv'\n",
    "df_hasil_clustering = pd.read_csv(nama_file)"
   ]
  },
  {
   "cell_type": "markdown",
   "metadata": {
    "id": "KkPem5eWL2UP"
   },
   "source": [
    "# **3. Data Splitting**"
   ]
  },
  {
   "cell_type": "markdown",
   "metadata": {
    "id": "YYj1rl_JNI9Y"
   },
   "source": [
    "Tahap Data Splitting bertujuan untuk memisahkan dataset menjadi dua bagian: data latih (training set) dan data uji (test set)."
   ]
  },
  {
   "cell_type": "code",
   "execution_count": 16,
   "metadata": {
    "id": "OubAW-7ONKVj"
   },
   "outputs": [
    {
     "name": "stdout",
     "output_type": "stream",
     "text": [
      "Dimensi data latih (X_train): (1315, 43)\n",
      "Dimensi data uji (X_test): (564, 43)\n"
     ]
    }
   ],
   "source": [
    "# Memisahkan fitur (X) dan target (y)\n",
    "X = df_hasil_clustering.drop(columns=['Diagnosis'])  # Menghapus kolom target\n",
    "y = df_hasil_clustering['Diagnosis']  # Menyimpan kolom target\n",
    "\n",
    "label_encoder = LabelEncoder()\n",
    "\n",
    "X_encoded = X.apply(label_encoder.fit_transform)\n",
    "y_encoded = label_encoder.fit_transform(y)\n",
    "\n",
    "# Membagi dataset menjadi training set dan testing set (70% training, 30% testing)\n",
    "X_train, X_test, y_train, y_test = train_test_split(X_encoded, y_encoded, test_size=0.30, random_state=42)\n",
    "\n",
    "# Menampilkan dimensi data latih dan data uji\n",
    "print(f'Dimensi data latih (X_train): {X_train.shape}')\n",
    "print(f'Dimensi data uji (X_test): {X_test.shape}')"
   ]
  },
  {
   "cell_type": "code",
   "execution_count": 17,
   "metadata": {},
   "outputs": [
    {
     "data": {
      "text/html": [
       "<div>\n",
       "<style scoped>\n",
       "    .dataframe tbody tr th:only-of-type {\n",
       "        vertical-align: middle;\n",
       "    }\n",
       "\n",
       "    .dataframe tbody tr th {\n",
       "        vertical-align: top;\n",
       "    }\n",
       "\n",
       "    .dataframe thead th {\n",
       "        text-align: right;\n",
       "    }\n",
       "</style>\n",
       "<table border=\"1\" class=\"dataframe\">\n",
       "  <thead>\n",
       "    <tr style=\"text-align: right;\">\n",
       "      <th></th>\n",
       "      <th>Age</th>\n",
       "      <th>Gender</th>\n",
       "      <th>Ethnicity</th>\n",
       "      <th>SocioeconomicStatus</th>\n",
       "      <th>EducationLevel</th>\n",
       "      <th>BMI</th>\n",
       "      <th>Smoking</th>\n",
       "      <th>AlcoholConsumption</th>\n",
       "      <th>PhysicalActivity</th>\n",
       "      <th>DietQuality</th>\n",
       "      <th>...</th>\n",
       "      <th>BlurredVision</th>\n",
       "      <th>SlowHealingSores</th>\n",
       "      <th>TinglingHandsFeet</th>\n",
       "      <th>QualityOfLifeScore</th>\n",
       "      <th>HeavyMetalsExposure</th>\n",
       "      <th>OccupationalExposureChemicals</th>\n",
       "      <th>WaterQuality</th>\n",
       "      <th>MedicalCheckupsFrequency</th>\n",
       "      <th>MedicationAdherence</th>\n",
       "      <th>HealthLiteracy</th>\n",
       "    </tr>\n",
       "  </thead>\n",
       "  <tbody>\n",
       "    <tr>\n",
       "      <th>1755</th>\n",
       "      <td>3</td>\n",
       "      <td>0</td>\n",
       "      <td>0</td>\n",
       "      <td>0</td>\n",
       "      <td>3</td>\n",
       "      <td>344</td>\n",
       "      <td>0</td>\n",
       "      <td>691</td>\n",
       "      <td>358</td>\n",
       "      <td>9</td>\n",
       "      <td>...</td>\n",
       "      <td>0</td>\n",
       "      <td>0</td>\n",
       "      <td>0</td>\n",
       "      <td>474</td>\n",
       "      <td>0</td>\n",
       "      <td>0</td>\n",
       "      <td>0</td>\n",
       "      <td>519</td>\n",
       "      <td>66</td>\n",
       "      <td>1034</td>\n",
       "    </tr>\n",
       "    <tr>\n",
       "      <th>798</th>\n",
       "      <td>14</td>\n",
       "      <td>1</td>\n",
       "      <td>0</td>\n",
       "      <td>1</td>\n",
       "      <td>2</td>\n",
       "      <td>1406</td>\n",
       "      <td>0</td>\n",
       "      <td>569</td>\n",
       "      <td>1176</td>\n",
       "      <td>577</td>\n",
       "      <td>...</td>\n",
       "      <td>0</td>\n",
       "      <td>0</td>\n",
       "      <td>1</td>\n",
       "      <td>1473</td>\n",
       "      <td>0</td>\n",
       "      <td>0</td>\n",
       "      <td>0</td>\n",
       "      <td>213</td>\n",
       "      <td>1381</td>\n",
       "      <td>771</td>\n",
       "    </tr>\n",
       "    <tr>\n",
       "      <th>208</th>\n",
       "      <td>70</td>\n",
       "      <td>0</td>\n",
       "      <td>0</td>\n",
       "      <td>0</td>\n",
       "      <td>1</td>\n",
       "      <td>899</td>\n",
       "      <td>0</td>\n",
       "      <td>868</td>\n",
       "      <td>1268</td>\n",
       "      <td>1435</td>\n",
       "      <td>...</td>\n",
       "      <td>0</td>\n",
       "      <td>0</td>\n",
       "      <td>0</td>\n",
       "      <td>1274</td>\n",
       "      <td>0</td>\n",
       "      <td>0</td>\n",
       "      <td>0</td>\n",
       "      <td>1322</td>\n",
       "      <td>1396</td>\n",
       "      <td>1053</td>\n",
       "    </tr>\n",
       "    <tr>\n",
       "      <th>1509</th>\n",
       "      <td>10</td>\n",
       "      <td>1</td>\n",
       "      <td>0</td>\n",
       "      <td>2</td>\n",
       "      <td>2</td>\n",
       "      <td>914</td>\n",
       "      <td>0</td>\n",
       "      <td>1459</td>\n",
       "      <td>1375</td>\n",
       "      <td>943</td>\n",
       "      <td>...</td>\n",
       "      <td>0</td>\n",
       "      <td>0</td>\n",
       "      <td>0</td>\n",
       "      <td>1402</td>\n",
       "      <td>0</td>\n",
       "      <td>0</td>\n",
       "      <td>0</td>\n",
       "      <td>1424</td>\n",
       "      <td>338</td>\n",
       "      <td>21</td>\n",
       "    </tr>\n",
       "    <tr>\n",
       "      <th>1469</th>\n",
       "      <td>25</td>\n",
       "      <td>0</td>\n",
       "      <td>0</td>\n",
       "      <td>1</td>\n",
       "      <td>1</td>\n",
       "      <td>1091</td>\n",
       "      <td>1</td>\n",
       "      <td>1666</td>\n",
       "      <td>1484</td>\n",
       "      <td>530</td>\n",
       "      <td>...</td>\n",
       "      <td>0</td>\n",
       "      <td>0</td>\n",
       "      <td>1</td>\n",
       "      <td>535</td>\n",
       "      <td>0</td>\n",
       "      <td>0</td>\n",
       "      <td>1</td>\n",
       "      <td>718</td>\n",
       "      <td>378</td>\n",
       "      <td>1565</td>\n",
       "    </tr>\n",
       "    <tr>\n",
       "      <th>...</th>\n",
       "      <td>...</td>\n",
       "      <td>...</td>\n",
       "      <td>...</td>\n",
       "      <td>...</td>\n",
       "      <td>...</td>\n",
       "      <td>...</td>\n",
       "      <td>...</td>\n",
       "      <td>...</td>\n",
       "      <td>...</td>\n",
       "      <td>...</td>\n",
       "      <td>...</td>\n",
       "      <td>...</td>\n",
       "      <td>...</td>\n",
       "      <td>...</td>\n",
       "      <td>...</td>\n",
       "      <td>...</td>\n",
       "      <td>...</td>\n",
       "      <td>...</td>\n",
       "      <td>...</td>\n",
       "      <td>...</td>\n",
       "      <td>...</td>\n",
       "    </tr>\n",
       "    <tr>\n",
       "      <th>1130</th>\n",
       "      <td>56</td>\n",
       "      <td>0</td>\n",
       "      <td>1</td>\n",
       "      <td>2</td>\n",
       "      <td>2</td>\n",
       "      <td>652</td>\n",
       "      <td>1</td>\n",
       "      <td>41</td>\n",
       "      <td>1194</td>\n",
       "      <td>1742</td>\n",
       "      <td>...</td>\n",
       "      <td>0</td>\n",
       "      <td>0</td>\n",
       "      <td>0</td>\n",
       "      <td>32</td>\n",
       "      <td>0</td>\n",
       "      <td>0</td>\n",
       "      <td>0</td>\n",
       "      <td>907</td>\n",
       "      <td>492</td>\n",
       "      <td>1560</td>\n",
       "    </tr>\n",
       "    <tr>\n",
       "      <th>1294</th>\n",
       "      <td>54</td>\n",
       "      <td>0</td>\n",
       "      <td>1</td>\n",
       "      <td>1</td>\n",
       "      <td>1</td>\n",
       "      <td>1131</td>\n",
       "      <td>0</td>\n",
       "      <td>1399</td>\n",
       "      <td>685</td>\n",
       "      <td>337</td>\n",
       "      <td>...</td>\n",
       "      <td>0</td>\n",
       "      <td>0</td>\n",
       "      <td>0</td>\n",
       "      <td>865</td>\n",
       "      <td>0</td>\n",
       "      <td>0</td>\n",
       "      <td>0</td>\n",
       "      <td>1165</td>\n",
       "      <td>690</td>\n",
       "      <td>527</td>\n",
       "    </tr>\n",
       "    <tr>\n",
       "      <th>860</th>\n",
       "      <td>64</td>\n",
       "      <td>1</td>\n",
       "      <td>1</td>\n",
       "      <td>1</td>\n",
       "      <td>1</td>\n",
       "      <td>1107</td>\n",
       "      <td>1</td>\n",
       "      <td>1689</td>\n",
       "      <td>1625</td>\n",
       "      <td>543</td>\n",
       "      <td>...</td>\n",
       "      <td>0</td>\n",
       "      <td>0</td>\n",
       "      <td>0</td>\n",
       "      <td>1005</td>\n",
       "      <td>0</td>\n",
       "      <td>0</td>\n",
       "      <td>0</td>\n",
       "      <td>365</td>\n",
       "      <td>1578</td>\n",
       "      <td>920</td>\n",
       "    </tr>\n",
       "    <tr>\n",
       "      <th>1459</th>\n",
       "      <td>8</td>\n",
       "      <td>1</td>\n",
       "      <td>1</td>\n",
       "      <td>2</td>\n",
       "      <td>2</td>\n",
       "      <td>1269</td>\n",
       "      <td>0</td>\n",
       "      <td>862</td>\n",
       "      <td>1082</td>\n",
       "      <td>953</td>\n",
       "      <td>...</td>\n",
       "      <td>0</td>\n",
       "      <td>0</td>\n",
       "      <td>0</td>\n",
       "      <td>193</td>\n",
       "      <td>0</td>\n",
       "      <td>0</td>\n",
       "      <td>0</td>\n",
       "      <td>1324</td>\n",
       "      <td>1250</td>\n",
       "      <td>1499</td>\n",
       "    </tr>\n",
       "    <tr>\n",
       "      <th>1126</th>\n",
       "      <td>56</td>\n",
       "      <td>0</td>\n",
       "      <td>1</td>\n",
       "      <td>2</td>\n",
       "      <td>2</td>\n",
       "      <td>78</td>\n",
       "      <td>0</td>\n",
       "      <td>771</td>\n",
       "      <td>1080</td>\n",
       "      <td>174</td>\n",
       "      <td>...</td>\n",
       "      <td>0</td>\n",
       "      <td>0</td>\n",
       "      <td>0</td>\n",
       "      <td>1812</td>\n",
       "      <td>0</td>\n",
       "      <td>0</td>\n",
       "      <td>0</td>\n",
       "      <td>326</td>\n",
       "      <td>1328</td>\n",
       "      <td>387</td>\n",
       "    </tr>\n",
       "  </tbody>\n",
       "</table>\n",
       "<p>1315 rows × 43 columns</p>\n",
       "</div>"
      ],
      "text/plain": [
       "      Age  Gender  Ethnicity  SocioeconomicStatus  EducationLevel   BMI  \\\n",
       "1755    3       0          0                    0               3   344   \n",
       "798    14       1          0                    1               2  1406   \n",
       "208    70       0          0                    0               1   899   \n",
       "1509   10       1          0                    2               2   914   \n",
       "1469   25       0          0                    1               1  1091   \n",
       "...   ...     ...        ...                  ...             ...   ...   \n",
       "1130   56       0          1                    2               2   652   \n",
       "1294   54       0          1                    1               1  1131   \n",
       "860    64       1          1                    1               1  1107   \n",
       "1459    8       1          1                    2               2  1269   \n",
       "1126   56       0          1                    2               2    78   \n",
       "\n",
       "      Smoking  AlcoholConsumption  PhysicalActivity  DietQuality  ...  \\\n",
       "1755        0                 691               358            9  ...   \n",
       "798         0                 569              1176          577  ...   \n",
       "208         0                 868              1268         1435  ...   \n",
       "1509        0                1459              1375          943  ...   \n",
       "1469        1                1666              1484          530  ...   \n",
       "...       ...                 ...               ...          ...  ...   \n",
       "1130        1                  41              1194         1742  ...   \n",
       "1294        0                1399               685          337  ...   \n",
       "860         1                1689              1625          543  ...   \n",
       "1459        0                 862              1082          953  ...   \n",
       "1126        0                 771              1080          174  ...   \n",
       "\n",
       "      BlurredVision  SlowHealingSores  TinglingHandsFeet  QualityOfLifeScore  \\\n",
       "1755              0                 0                  0                 474   \n",
       "798               0                 0                  1                1473   \n",
       "208               0                 0                  0                1274   \n",
       "1509              0                 0                  0                1402   \n",
       "1469              0                 0                  1                 535   \n",
       "...             ...               ...                ...                 ...   \n",
       "1130              0                 0                  0                  32   \n",
       "1294              0                 0                  0                 865   \n",
       "860               0                 0                  0                1005   \n",
       "1459              0                 0                  0                 193   \n",
       "1126              0                 0                  0                1812   \n",
       "\n",
       "      HeavyMetalsExposure  OccupationalExposureChemicals  WaterQuality  \\\n",
       "1755                    0                              0             0   \n",
       "798                     0                              0             0   \n",
       "208                     0                              0             0   \n",
       "1509                    0                              0             0   \n",
       "1469                    0                              0             1   \n",
       "...                   ...                            ...           ...   \n",
       "1130                    0                              0             0   \n",
       "1294                    0                              0             0   \n",
       "860                     0                              0             0   \n",
       "1459                    0                              0             0   \n",
       "1126                    0                              0             0   \n",
       "\n",
       "      MedicalCheckupsFrequency  MedicationAdherence  HealthLiteracy  \n",
       "1755                       519                   66            1034  \n",
       "798                        213                 1381             771  \n",
       "208                       1322                 1396            1053  \n",
       "1509                      1424                  338              21  \n",
       "1469                       718                  378            1565  \n",
       "...                        ...                  ...             ...  \n",
       "1130                       907                  492            1560  \n",
       "1294                      1165                  690             527  \n",
       "860                        365                 1578             920  \n",
       "1459                      1324                 1250            1499  \n",
       "1126                       326                 1328             387  \n",
       "\n",
       "[1315 rows x 43 columns]"
      ]
     },
     "execution_count": 17,
     "metadata": {},
     "output_type": "execute_result"
    }
   ],
   "source": [
    "X_train"
   ]
  },
  {
   "cell_type": "markdown",
   "metadata": {
    "id": "IVPbB03CMhTT"
   },
   "source": [
    "# **4. Membangun Model Klasifikasi**\n"
   ]
  },
  {
   "cell_type": "markdown",
   "metadata": {
    "id": "Ned1pL9zMmBK"
   },
   "source": [
    "## **a. Membangun Model Klasifikasi**"
   ]
  },
  {
   "cell_type": "markdown",
   "metadata": {
    "id": "WAWzPOE4Nkti"
   },
   "source": [
    "Setelah memilih algoritma klasifikasi yang sesuai, langkah selanjutnya adalah melatih model menggunakan data latih.\n",
    "\n",
    "Berikut adalah rekomendasi tahapannya.\n",
    "1. Pilih algoritma klasifikasi yang sesuai, seperti Logistic Regression, Decision Tree, Random Forest, atau K-Nearest Neighbors (KNN).\n",
    "2. Latih model menggunakan data latih."
   ]
  },
  {
   "cell_type": "code",
   "execution_count": 18,
   "metadata": {},
   "outputs": [
    {
     "name": "stdout",
     "output_type": "stream",
     "text": [
      "Initial accuracy on test set (without tuning): 0.90\n"
     ]
    }
   ],
   "source": [
    "# Inisialisasi model Random Forest tanpa hyperparameter tuning\n",
    "rf = RandomForestClassifier(random_state=42)\n",
    "rf.fit(X_train, y_train)\n",
    " \n",
    "# Evaluasi awal model tanpa tuning\n",
    "initial_score = rf.score(X_test, y_test)\n",
    "print(f\"Initial accuracy on test set (without tuning): {initial_score:.2f}\")"
   ]
  },
  {
   "cell_type": "markdown",
   "metadata": {
    "id": "ergzChZFEL-O"
   },
   "source": [
    "## **b. Evaluasi Model Klasifikasi**"
   ]
  },
  {
   "cell_type": "markdown",
   "metadata": {
    "id": "zOm68u-7NpLT"
   },
   "source": [
    "Berikut adalah **rekomendasi** tahapannya.\n",
    "1. Lakukan prediksi menggunakan data uji.\n",
    "2. Hitung metrik evaluasi seperti Accuracy dan F1-Score (Opsional: Precision dan Recall).\n",
    "3. Buat confusion matrix untuk melihat detail prediksi benar dan salah."
   ]
  },
  {
   "cell_type": "code",
   "execution_count": 20,
   "metadata": {
    "id": "tMq4QAssNLip"
   },
   "outputs": [
    {
     "name": "stdout",
     "output_type": "stream",
     "text": [
      "Accuracy on test set: 0.90\n",
      "F1-Score (weighted) on test set: 0.90\n",
      "Precision (weighted) on test set: 0.91\n",
      "Recall (weighted) on test set: 0.90\n"
     ]
    },
    {
     "data": {
      "image/png": "[encoded data removed]",
      "text/plain": [
       "<Figure size 800x600 with 2 Axes>"
      ]
     },
     "metadata": {},
     "output_type": "display_data"
    }
   ],
   "source": [
    "# 1. Lakukan prediksi menggunakan data uji\n",
    "y_pred = rf.predict(X_test)\n",
    "\n",
    "# 2. Hitung metrik evaluasi\n",
    "accuracy = accuracy_score(y_test, y_pred)\n",
    "f1 = f1_score(y_test, y_pred, average='weighted')  # Rata-rata tertimbang F1-Score\n",
    "precision = precision_score(y_test, y_pred, average='weighted')  # Precision rata-rata tertimbang\n",
    "recall = recall_score(y_test, y_pred, average='weighted')  # Recall rata-rata tertimbang\n",
    "\n",
    "# Tampilkan hasil metrik evaluasi\n",
    "print(f\"Accuracy on test set: {accuracy:.2f}\")\n",
    "print(f\"F1-Score (weighted) on test set: {f1:.2f}\")\n",
    "print(f\"Precision (weighted) on test set: {precision:.2f}\")\n",
    "print(f\"Recall (weighted) on test set: {recall:.2f}\")\n",
    "\n",
    "# 3. Buat confusion matrix\n",
    "cm = confusion_matrix(y_test, y_pred)\n",
    "\n",
    "# Visualisasi confusion matrix menggunakan heatmap\n",
    "plt.figure(figsize=(8, 6))\n",
    "sns.heatmap(cm, annot=True, fmt=\"d\", cmap=\"Blues\", xticklabels=['Class 0', 'Class 1'], yticklabels=['Class 0', 'Class 1'])\n",
    "plt.title(\"Confusion Matrix\")\n",
    "plt.xlabel(\"Predicted Label\")\n",
    "plt.ylabel(\"True Label\")\n",
    "plt.show()"
   ]
  },
  {
   "cell_type": "markdown",
   "metadata": {
    "id": "ph9yIYDXEPuB"
   },
   "source": [
    "## **c. Tuning Model Klasifikasi (Optional)**"
   ]
  },
  {
   "cell_type": "markdown",
   "metadata": {
    "id": "-Bikx3LINv5e"
   },
   "source": [
    "Gunakan GridSearchCV, RandomizedSearchCV, atau metode lainnya untuk mencari kombinasi hyperparameter terbaik"
   ]
  },
  {
   "cell_type": "code",
   "execution_count": 253,
   "metadata": {
    "id": "winbFzb8NL95"
   },
   "outputs": [
    {
     "name": "stdout",
     "output_type": "stream",
     "text": [
      "Fitting 3 folds for each of 54 candidates, totalling 162 fits\n",
      "Best parameters (Grid Search): {'criterion': 'entropy', 'max_depth': 30, 'min_samples_split': 2, 'n_estimators': 300}\n",
      "Accuracy after Grid Search: 0.43\n"
     ]
    }
   ],
   "source": [
    "# Definisikan parameter grid untuk Grid Search\n",
    "param_grid = {\n",
    "    'n_estimators': [100, 200, 300],\n",
    "    'max_depth': [10, 20, 30],\n",
    "    'min_samples_split': [2, 5, 10],\n",
    "    'criterion': ['gini', 'entropy']\n",
    "}\n",
    " \n",
    "# Inisialisasi GridSearchCV\n",
    "grid_search = GridSearchCV(estimator=rf, param_grid=param_grid, cv=3, n_jobs=-1, verbose=2)\n",
    "grid_search.fit(X_train, y_train)\n",
    " \n",
    "# Output hasil terbaik\n",
    "print(f\"Best parameters (Grid Search): {grid_search.best_params_}\")\n",
    "best_rf_grid = grid_search.best_estimator_\n",
    " \n",
    "# Evaluasi performa model pada test set\n",
    "grid_search_score = best_rf_grid.score(X_test, y_test)\n",
    "print(f\"Accuracy after Grid Search: {grid_search_score:.2f}\")"
   ]
  },
  {
   "cell_type": "code",
   "execution_count": 254,
   "metadata": {},
   "outputs": [
    {
     "name": "stdout",
     "output_type": "stream",
     "text": [
      "Fitting 3 folds for each of 20 candidates, totalling 60 fits\n",
      "Best parameters (Random Search): {'n_estimators': np.int64(200), 'min_samples_split': 2, 'max_depth': np.int64(30), 'criterion': 'gini'}\n",
      "Accuracy after Random Search: 0.42\n"
     ]
    }
   ],
   "source": [
    "# Definisikan ruang pencarian untuk Random Search\n",
    "param_dist = {\n",
    "    'n_estimators': np.linspace(100, 500, 5, dtype=int),\n",
    "    'max_depth': np.linspace(10, 50, 5, dtype=int),\n",
    "    'min_samples_split': [2, 5, 10],\n",
    "    'criterion': ['gini', 'entropy']\n",
    "}\n",
    " \n",
    "# Inisialisasi RandomizedSearchCV\n",
    "random_search = RandomizedSearchCV(estimator=rf, param_distributions=param_dist, n_iter=20, cv=3, n_jobs=-1, verbose=2, random_state=42)\n",
    "random_search.fit(X_train, y_train)\n",
    " \n",
    "# Output hasil terbaik\n",
    "print(f\"Best parameters (Random Search): {random_search.best_params_}\")\n",
    "best_rf_random = random_search.best_estimator_\n",
    " \n",
    "# Evaluasi performa model pada test set\n",
    "random_search_score = best_rf_random.score(X_test, y_test)\n",
    "print(f\"Accuracy after Random Search: {random_search_score:.2f}\")"
   ]
  },
  {
   "cell_type": "code",
   "execution_count": 255,
   "metadata": {},
   "outputs": [
    {
     "name": "stdout",
     "output_type": "stream",
     "text": [
      "Fitting 3 folds for each of 1 candidates, totalling 3 fits\n",
      "Fitting 3 folds for each of 1 candidates, totalling 3 fits\n",
      "Fitting 3 folds for each of 1 candidates, totalling 3 fits\n",
      "Fitting 3 folds for each of 1 candidates, totalling 3 fits\n",
      "Fitting 3 folds for each of 1 candidates, totalling 3 fits\n",
      "Fitting 3 folds for each of 1 candidates, totalling 3 fits\n",
      "Fitting 3 folds for each of 1 candidates, totalling 3 fits\n",
      "Fitting 3 folds for each of 1 candidates, totalling 3 fits\n",
      "Fitting 3 folds for each of 1 candidates, totalling 3 fits\n",
      "Fitting 3 folds for each of 1 candidates, totalling 3 fits\n",
      "Fitting 3 folds for each of 1 candidates, totalling 3 fits\n",
      "Fitting 3 folds for each of 1 candidates, totalling 3 fits\n",
      "Fitting 3 folds for each of 1 candidates, totalling 3 fits\n",
      "Fitting 3 folds for each of 1 candidates, totalling 3 fits\n",
      "Fitting 3 folds for each of 1 candidates, totalling 3 fits\n",
      "Fitting 3 folds for each of 1 candidates, totalling 3 fits\n",
      "Fitting 3 folds for each of 1 candidates, totalling 3 fits\n",
      "Fitting 3 folds for each of 1 candidates, totalling 3 fits\n",
      "Fitting 3 folds for each of 1 candidates, totalling 3 fits\n",
      "Fitting 3 folds for each of 1 candidates, totalling 3 fits\n",
      "Fitting 3 folds for each of 1 candidates, totalling 3 fits\n",
      "Fitting 3 folds for each of 1 candidates, totalling 3 fits\n",
      "Fitting 3 folds for each of 1 candidates, totalling 3 fits\n",
      "Fitting 3 folds for each of 1 candidates, totalling 3 fits\n",
      "Fitting 3 folds for each of 1 candidates, totalling 3 fits\n",
      "Fitting 3 folds for each of 1 candidates, totalling 3 fits\n",
      "Fitting 3 folds for each of 1 candidates, totalling 3 fits\n",
      "Fitting 3 folds for each of 1 candidates, totalling 3 fits\n",
      "Fitting 3 folds for each of 1 candidates, totalling 3 fits\n",
      "Fitting 3 folds for each of 1 candidates, totalling 3 fits\n",
      "Fitting 3 folds for each of 1 candidates, totalling 3 fits\n",
      "Fitting 3 folds for each of 1 candidates, totalling 3 fits\n",
      "Best parameters (Bayesian Optimization): OrderedDict([('criterion', 'entropy'), ('max_depth', 50), ('min_samples_split', 2), ('n_estimators', 134)])\n",
      "Accuracy after Bayesian Optimization: 0.42\n"
     ]
    }
   ],
   "source": [
    "# Definisikan ruang pencarian untuk Bayesian Optimization\n",
    "param_space = {\n",
    "    'n_estimators': (100, 500),\n",
    "    'max_depth': (10, 50),\n",
    "    'min_samples_split': (2, 10),\n",
    "    'criterion': ['gini', 'entropy']\n",
    "}\n",
    " \n",
    "# Inisialisasi BayesSearchCV\n",
    "bayes_search = BayesSearchCV(estimator=rf, search_spaces=param_space, n_iter=32, cv=3, n_jobs=-1, verbose=2, random_state=42)\n",
    "bayes_search.fit(X_train, y_train)\n",
    " \n",
    "# Output hasil terbaik\n",
    "print(f\"Best parameters (Bayesian Optimization): {bayes_search.best_params_}\")\n",
    "best_rf_bayes = bayes_search.best_estimator_\n",
    " \n",
    "# Evaluasi performa model pada test set\n",
    "bayes_search_score = best_rf_bayes.score(X_test, y_test)\n",
    "print(f\"Accuracy after Bayesian Optimization: {bayes_search_score:.2f}\")"
   ]
  },
  {
   "cell_type": "markdown",
   "metadata": {
    "id": "hE7pqlEPEYzI"
   },
   "source": [
    "## **d. Evaluasi Model Klasifikasi setelah Tuning (Optional)**"
   ]
  },
  {
   "cell_type": "markdown",
   "metadata": {
    "id": "feaPESoeN0zz"
   },
   "source": [
    "Berikut adalah rekomendasi tahapannya.\n",
    "1. Gunakan model dengan hyperparameter terbaik.\n",
    "2. Hitung ulang metrik evaluasi untuk melihat apakah ada peningkatan performa."
   ]
  },
  {
   "cell_type": "code",
   "execution_count": 256,
   "metadata": {},
   "outputs": [
    {
     "name": "stdout",
     "output_type": "stream",
     "text": [
      "\n",
      "Performance Metrics (Grid Search):\n",
      "Accuracy: 0.43\n",
      "F1-Score: 0.43\n",
      "Precision: 0.43\n",
      "Recall: 0.43\n"
     ]
    }
   ],
   "source": [
    "# Evaluasi ulang model terbaik dari Grid Search\n",
    "y_pred_grid = best_rf_grid.predict(X_test)\n",
    "accuracy_grid = accuracy_score(y_test, y_pred_grid)\n",
    "f1_grid = f1_score(y_test, y_pred_grid, average='weighted')\n",
    "precision_grid = precision_score(y_test, y_pred_grid, average='weighted')\n",
    "recall_grid = recall_score(y_test, y_pred_grid, average='weighted')\n",
    "\n",
    "print(\"\\nPerformance Metrics (Grid Search):\")\n",
    "print(f\"Accuracy: {accuracy_grid:.2f}\")\n",
    "print(f\"F1-Score: {f1_grid:.2f}\")\n",
    "print(f\"Precision: {precision_grid:.2f}\")\n",
    "print(f\"Recall: {recall_grid:.2f}\")"
   ]
  },
  {
   "cell_type": "code",
   "execution_count": 257,
   "metadata": {},
   "outputs": [
    {
     "name": "stdout",
     "output_type": "stream",
     "text": [
      "\n",
      "Performance Metrics (Random Search):\n",
      "Accuracy: 0.42\n",
      "F1-Score: 0.42\n",
      "Precision: 0.42\n",
      "Recall: 0.42\n"
     ]
    }
   ],
   "source": [
    "# Evaluasi ulang model terbaik dari Random Search\n",
    "y_pred_random = best_rf_random.predict(X_test)\n",
    "accuracy_random = accuracy_score(y_test, y_pred_random)\n",
    "f1_random = f1_score(y_test, y_pred_random, average='weighted')\n",
    "precision_random = precision_score(y_test, y_pred_random, average='weighted')\n",
    "recall_random = recall_score(y_test, y_pred_random, average='weighted')\n",
    "\n",
    "print(\"\\nPerformance Metrics (Random Search):\")\n",
    "print(f\"Accuracy: {accuracy_random:.2f}\")\n",
    "print(f\"F1-Score: {f1_random:.2f}\")\n",
    "print(f\"Precision: {precision_random:.2f}\")\n",
    "print(f\"Recall: {recall_random:.2f}\")"
   ]
  },
  {
   "cell_type": "code",
   "execution_count": 258,
   "metadata": {},
   "outputs": [
    {
     "name": "stdout",
     "output_type": "stream",
     "text": [
      "\n",
      "Performance Metrics (Bayesian Optimization):\n",
      "Accuracy: 0.42\n",
      "F1-Score: 0.42\n",
      "Precision: 0.42\n",
      "Recall: 0.42\n"
     ]
    }
   ],
   "source": [
    "# Evaluasi ulang model terbaik dari Bayesian Optimization\n",
    "y_pred_bayes = best_rf_bayes.predict(X_test)\n",
    "accuracy_bayes = accuracy_score(y_test, y_pred_bayes)\n",
    "f1_bayes = f1_score(y_test, y_pred_bayes, average='weighted')\n",
    "precision_bayes = precision_score(y_test, y_pred_bayes, average='weighted')\n",
    "recall_bayes = recall_score(y_test, y_pred_bayes, average='weighted')\n",
    "\n",
    "print(\"\\nPerformance Metrics (Bayesian Optimization):\")\n",
    "print(f\"Accuracy: {accuracy_bayes:.2f}\")\n",
    "print(f\"F1-Score: {f1_bayes:.2f}\")\n",
    "print(f\"Precision: {precision_bayes:.2f}\")\n",
    "print(f\"Recall: {recall_bayes:.2f}\")"
   ]
  },
  {
   "cell_type": "code",
   "execution_count": 259,
   "metadata": {},
   "outputs": [
    {
     "data": {
      "image/png": "[encoded data removed]",
      "text/plain": [
       "<Figure size 800x600 with 2 Axes>"
      ]
     },
     "metadata": {},
     "output_type": "display_data"
    },
    {
     "name": "stdout",
     "output_type": "stream",
     "text": [
      "\n",
      "Classification Report (Bayesian Optimization):\n",
      "              precision    recall  f1-score   support\n",
      "\n",
      "    Abnormal       0.42      0.42      0.42      5643\n",
      "Inconclusive       0.41      0.43      0.42      5418\n",
      "      Normal       0.43      0.41      0.42      5589\n",
      "\n",
      "    accuracy                           0.42     16650\n",
      "   macro avg       0.42      0.42      0.42     16650\n",
      "weighted avg       0.42      0.42      0.42     16650\n",
      "\n"
     ]
    }
   ],
   "source": [
    "# Visualisasi Confusion Matrix untuk model terbaik (misalnya, dari Bayesian Optimization)\n",
    "conf_matrix_bayes = confusion_matrix(y_test, y_pred_bayes)\n",
    "\n",
    "plt.figure(figsize=(8, 6))\n",
    "sns.heatmap(conf_matrix_bayes, annot=True, fmt='d', cmap='Blues', xticklabels=label_encoder.classes_, yticklabels=label_encoder.classes_)\n",
    "plt.xlabel('Predicted')\n",
    "plt.ylabel('Actual')\n",
    "plt.title('Confusion Matrix (Bayesian Optimization)')\n",
    "plt.show()\n",
    "\n",
    "# Classification Report untuk model terbaik\n",
    "print(\"\\nClassification Report (Bayesian Optimization):\")\n",
    "print(classification_report(y_test, y_pred_bayes, target_names=label_encoder.classes_, zero_division=0))"
   ]
  },
  {
   "cell_type": "markdown",
   "metadata": {
    "id": "ZRsOdm4uEgAW"
   },
   "source": [
    "## **e. Analisis Hasil Evaluasi Model Klasifikasi**"
   ]
  },
  {
   "cell_type": "markdown",
   "metadata": {
    "id": "Hm3BhSi6N4_l"
   },
   "source": [
    "Berikut adalah **rekomendasi** tahapannya.\n",
    "1. Bandingkan hasil evaluasi sebelum dan setelah tuning (jika dilakukan).\n",
    "   - Evaluasi Awal (Tanpa Tuning)\n",
    "     - Accuracy: 0.42\n",
    "     - Metrik evaluasi lainnya belum dihitung pada tahap ini.\n",
    "   - Setelah Tuning\n",
    "     - Grid Search Accuracy: 0.43 (peningkatan kecil dari model awal).\n",
    "     - Random Search Accuracy: 0.42 (tidak ada peningkatan).\n",
    "     - Bayesian Optimization Accuracy: 0.42 (tidak ada peningkatan).\n",
    "Metrik tambahan untuk semua metode tuning menunjukkan nilai yang sama di sekitar 0.42–0.43 (Accuracy, F1-Score, Precision, Recall).\n",
    "\n",
    "2. Identifikasi kelemahan model, seperti:\n",
    "  - Precision atau Recall rendah untuk kelas tertentu.\n",
    "    - Semua metode menunjukkan metrik yang serupa untuk setiap kelas, sehingga kemungkinan besar model gagal menangkap pola signifikan dari data.\n",
    "    - Confusion Matrix dapat menunjukkan kelas tertentu yang sering salah diklasifikasikan.\n",
    "  - Apakah model mengalami overfitting atau underfitting?\n",
    "    - Performa model pada data uji hanya sedikit meningkat setelah tuning. Hal ini menunjukkan bahwa model kemungkinan mengalami underfitting.\n",
    "    - Tuning hyperparameter tidak memberikan peningkatan signifikan, sehingga kompleksitas model saat ini mungkin tidak cukup untuk menangkap informasi dari data.\n",
    "\n",
    "3. Berikan rekomendasi tindakan lanjutan, seperti mengumpulkan data tambahan atau mencoba algoritma lain jika hasil belum memuaskan.\n",
    "   - Periksa distribusi kelas pada target. Ketidakseimbangan kelas dapat menyebabkan model hanya mempelajari kelas mayoritas\n",
    "   - Lakukan analisis tambahan terhadap fitur yang digunakan. Mungkin ada korelasi rendah antara fitur dengan target.\n",
    "   - Eksperimen dengan Algoritma Lain\n",
    "\n",
    "\n",
    "\n",
    "\n"
   ]
  },
  {
   "cell_type": "code",
   "execution_count": null,
   "metadata": {},
   "outputs": [],
   "source": []
  }
 ],
 "metadata": {
  "colab": {
   "provenance": []
  },
  "kernelspec": {
   "display_name": "Python 3 (ipykernel)",
   "language": "python",
   "name": "python3"
  },
  "language_info": {
   "codemirror_mode": {
    "name": "ipython",
    "version": 3
   },
   "file_extension": ".py",
   "mimetype": "text/x-python",
   "name": "python",
   "nbconvert_exporter": "python",
   "pygments_lexer": "ipython3",
   "version": "3.11.9"
  }
 },
 "nbformat": 4,
 "nbformat_minor": 4
}
